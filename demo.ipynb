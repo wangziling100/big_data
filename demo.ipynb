{
 "cells": [
  {
   "cell_type": "code",
   "execution_count": 1,
   "metadata": {
    "collapsed": true
   },
   "outputs": [],
   "source": [
    "import pandas as pd\n",
    "import os\n",
    "import numpy as np\n",
    "import pickle\n",
    "import matplotlib.pyplot as plt\n",
    "from sklearn.preprocessing import StandardScaler\n",
    "from util.util import *\n",
    "from features import *\n",
    "import json\n",
    "from scipy import stats"
   ]
  },
  {
   "cell_type": "code",
   "execution_count": 2,
   "metadata": {
    "collapsed": true
   },
   "outputs": [],
   "source": [
    "train_dir = '/home/i40/data/AGDTask2/train/'\n",
    "train = [ train_dir + f for f in os.listdir(train_dir)]\n",
    "train = sorted(train)\n",
    "test_dir = '/home/i40/data/AGDTask2/test/'\n",
    "test = [ test_dir + f for f in os.listdir(test_dir)]\n",
    "test = sorted(test)\n",
    "total = train + test"
   ]
  },
  {
   "cell_type": "code",
   "execution_count": 3,
   "metadata": {
    "collapsed": true
   },
   "outputs": [],
   "source": [
    "# Here are the codes of the CO-sensors and CO-alarms\n",
    "sensors = [\"CQ 32301 XQ01\", \"CQ 32302 XQ01\", \"CQ 32303 XQ01\", \"CQ 32304 XQ01\", \"CQ 32305 XQ01\"]\n",
    "alarms = [\"CQ 32306 XH01\", \"CQ 32306 XH03\", \"CQ 32306 XH05\"]"
   ]
  },
  {
   "cell_type": "code",
   "execution_count": 4,
   "metadata": {
    "collapsed": true
   },
   "outputs": [],
   "source": [
    "common_features = json.load(open(\"commonFeatures_new\", 'r'))"
   ]
  },
  {
   "cell_type": "code",
   "execution_count": 5,
   "metadata": {
    "collapsed": true
   },
   "outputs": [],
   "source": [
    "train_features = common_features + sensors + alarms"
   ]
  },
  {
   "cell_type": "code",
   "execution_count": 6,
   "metadata": {
    "collapsed": true
   },
   "outputs": [],
   "source": [
    "def readFile(fn, train_features, alarms):\n",
    "    temp = pd.read_csv(fn,engine='python' )\n",
    "        # if alarm doe not exist, then add a correspond column\n",
    "    for alarm in alarms:\n",
    "        if alarm not in temp.columns:\n",
    "            temp[alarm] = 0\n",
    "\n",
    "    temp = temp[train_features]\n",
    "    return temp"
   ]
  },
  {
   "cell_type": "code",
   "execution_count": 21,
   "metadata": {},
   "outputs": [],
   "source": [
    "data = readFile(train[0],train_features,alarms)\n",
    "data['time'] = pd.to_datetime(data['time'])\n",
    "data = data.set_index('time')"
   ]
  },
  {
   "cell_type": "code",
   "execution_count": 23,
   "metadata": {},
   "outputs": [],
   "source": [
    "X = data.drop(sensors+alarms, axis=1)"
   ]
  },
  {
   "cell_type": "code",
   "execution_count": 24,
   "metadata": {},
   "outputs": [],
   "source": [
    "y = pd.DataFrame()\n",
    "y['alarm'] = data[\"CQ 32306 XH01\"]+data[\"CQ 32306 XH03\"]+data[\"CQ 32306 XH05\"]\n",
    "y['alarm'] = (y['alarm']>0).astype(int)"
   ]
  },
  {
   "cell_type": "code",
   "execution_count": 27,
   "metadata": {},
   "outputs": [
    {
     "name": "stderr",
     "output_type": "stream",
     "text": [
      "/home/i40/dbprak14/anaconda2/lib/python2.7/site-packages/ipykernel_launcher.py:1: FutureWarning: how in .resample() is deprecated\n",
      "the new syntax is .resample(...)..apply(<func>)\n",
      "  \"\"\"Entry point for launching an IPython kernel.\n",
      "/home/i40/dbprak14/anaconda2/lib/python2.7/site-packages/ipykernel_launcher.py:2: FutureWarning: how in .resample() is deprecated\n",
      "the new syntax is .resample(...)..apply(<func>)\n",
      "  \n",
      "/home/i40/dbprak14/anaconda2/lib/python2.7/site-packages/ipykernel_launcher.py:3: FutureWarning: how in .resample() is deprecated\n",
      "the new syntax is .resample(...)..apply(<func>)\n",
      "  This is separate from the ipykernel package so we can avoid doing imports until\n"
     ]
    }
   ],
   "source": [
    "f1 = X.resample('5min',how=np.mean)\n",
    "f2 = X.resample('5min',how=np.std)\n",
    "f3 = X.resample('5min',how=np.var)\n",
    "X = pd.concat([f1,f2,f3],axis=1)"
   ]
  },
  {
   "cell_type": "code",
   "execution_count": 30,
   "metadata": {},
   "outputs": [
    {
     "name": "stderr",
     "output_type": "stream",
     "text": [
      "/home/i40/dbprak14/anaconda2/lib/python2.7/site-packages/ipykernel_launcher.py:1: FutureWarning: how in .resample() is deprecated\n",
      "the new syntax is .resample(...)..apply(<func>)\n",
      "  \"\"\"Entry point for launching an IPython kernel.\n"
     ]
    }
   ],
   "source": [
    "y = y.resample('5min',how=np.max)"
   ]
  },
  {
   "cell_type": "code",
   "execution_count": 32,
   "metadata": {},
   "outputs": [],
   "source": [
    "X = X[0:X.shape[0]-1]\n",
    "y = y[1:y.shape[0]]"
   ]
  },
  {
   "cell_type": "code",
   "execution_count": 38,
   "metadata": {},
   "outputs": [],
   "source": [
    "from sklearn.model_selection import train_test_split\n",
    "X_train,X_test, y_train,y_test = train_test_split(X,y,test_size=0.1,random_state=66)"
   ]
  },
  {
   "cell_type": "code",
   "execution_count": 39,
   "metadata": {},
   "outputs": [
    {
     "name": "stdout",
     "output_type": "stream",
     "text": [
      "((258, 702), (258, 1))\n"
     ]
    }
   ],
   "source": [
    "print(X_train.shape,y_train.shape)"
   ]
  },
  {
   "cell_type": "code",
   "execution_count": 40,
   "metadata": {},
   "outputs": [
    {
     "name": "stderr",
     "output_type": "stream",
     "text": [
      "/home/i40/dbprak14/anaconda2/lib/python2.7/site-packages/sklearn/cross_validation.py:44: DeprecationWarning: This module was deprecated in version 0.18 in favor of the model_selection module into which all the refactored classes and functions are moved. Also note that the interface of the new CV iterators are different from that of this module. This module will be removed in 0.20.\n",
      "  \"This module will be removed in 0.20.\", DeprecationWarning)\n"
     ]
    }
   ],
   "source": [
    "import xgboost as xgb\n",
    "from sklearn.model_selection import train_test_split\n",
    "from sklearn.model_selection import KFold, train_test_split, GridSearchCV\n",
    "from sklearn.metrics import confusion_matrix, mean_squared_error\n",
    "from sklearn.datasets import load_iris, load_digits, load_boston\n",
    "from sklearn.preprocessing import StandardScaler\n",
    "from sklearn.decomposition import PCA\n",
    "from sklearn.pipeline import Pipeline"
   ]
  },
  {
   "cell_type": "code",
   "execution_count": 41,
   "metadata": {
    "collapsed": true
   },
   "outputs": [],
   "source": [
    "sc = StandardScaler()\n",
    "sc = sc.fit(X_train)\n",
    "X_train = sc.transform(X_train)\n",
    "X_test = sc.transform(X_test)\n",
    "\n",
    "pca = PCA(n_components=0.95)\n",
    "pca = pca.fit(X_train)\n",
    "X_train = pca.transform(X_train)\n",
    "X_test = pca.transform(X_test)"
   ]
  },
  {
   "cell_type": "code",
   "execution_count": 48,
   "metadata": {},
   "outputs": [
    {
     "name": "stdout",
     "output_type": "stream",
     "text": [
      "recall score: 0.0\n",
      "precision score 0.0\n"
     ]
    }
   ],
   "source": [
    "from sklearn.metrics import recall_score,precision_score\n",
    "param_dist = {'n_estimators':100,'max_depth': 4}\n",
    "bst = xgb.XGBClassifier(**param_dist)\n",
    "bst = bst.fit(X_train, y_train)\n",
    "y_pred = bst.predict(X_test)\n",
    "recall = recall_score(y_test,y_pred)\n",
    "precision = precision_score(y_test,y_pred)\n",
    "\n",
    "#result = 5*(recall*precision)/(4*precision+recall)\n",
    "\n",
    "print('recall score: {}'.format(recall))\n",
    "print('precision score {}'.format(precision))\n",
    "#print('f2 score: {}'.format(result))\n"
   ]
  }
 ],
 "metadata": {
  "kernelspec": {
   "display_name": "Python 2",
   "language": "python",
   "name": "python2"
  },
  "language_info": {
   "codemirror_mode": {
    "name": "ipython",
    "version": 2
   },
   "file_extension": ".py",
   "mimetype": "text/x-python",
   "name": "python",
   "nbconvert_exporter": "python",
   "pygments_lexer": "ipython2",
   "version": "2.7.13"
  }
 },
 "nbformat": 4,
 "nbformat_minor": 2
}
